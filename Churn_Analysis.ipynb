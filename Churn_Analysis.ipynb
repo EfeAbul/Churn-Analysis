{
  "nbformat": 4,
  "nbformat_minor": 0,
  "metadata": {
    "colab": {
      "provenance": []
    },
    "kernelspec": {
      "name": "python3",
      "display_name": "Python 3"
    },
    "language_info": {
      "name": "python"
    }
  },
  "cells": [
    {
      "cell_type": "code",
      "execution_count": null,
      "metadata": {
        "id": "EyD2vCnuguLu"
      },
      "outputs": [],
      "source": [
        "import pandas as pd\n",
        "from sklearn.model_selection import train_test_split\n",
        "from sklearn.preprocessing import StandardScaler, OneHotEncoder\n",
        "from sklearn.decomposition import PCA\n",
        "from sklearn.compose import ColumnTransformer\n",
        "from tensorflow.keras.models import Sequential\n",
        "from tensorflow.keras.layers import Dense\n",
        "from sklearn.metrics import classification_report\n",
        "\n",
        "# Veriyi yükle\n",
        "df = pd.read_csv(\"/content/Customer-Churn-Records.csv\")\n",
        "\n",
        "# Gereksiz sütunları çıkar\n",
        "df = df.drop(['RowNumber', 'CustomerId', 'Surname'], axis=1)\n",
        "\n",
        "# Hedef ve özellikleri ayır\n",
        "X = df.drop('Exited', axis=1)\n",
        "y = df['Exited']\n",
        "\n",
        "# Kategorik verileri one-hot encode et\n",
        "categorical = ['Geography', 'Gender', 'Card Type']\n",
        "ct = ColumnTransformer([(\"encoder\", OneHotEncoder(drop='first'), categorical)], remainder='passthrough')\n",
        "X = ct.fit_transform(X)\n",
        "\n",
        "# Veriyi ölçekle\n",
        "sc = StandardScaler()\n",
        "X = sc.fit_transform(X)\n",
        "\n",
        "# PCA uygula\n",
        "pca = PCA(n_components=0.95, random_state=42)\n",
        "X = pca.fit_transform(X)\n",
        "\n",
        "# Eğitim/test ayır\n",
        "X_train, X_test, y_train, y_test = train_test_split(X, y, test_size=0.2, random_state=42)\n",
        "\n",
        "# ANN modeli kur\n",
        "model = Sequential()\n",
        "model.add(Dense(16, activation='relu', input_dim=X_train.shape[1]))\n",
        "model.add(Dense(8, activation='relu'))\n",
        "model.add(Dense(1, activation='sigmoid'))\n",
        "\n",
        "model.compile(optimizer='adam', loss='binary_crossentropy', metrics=['accuracy'])\n",
        "model.fit(X_train, y_train, epochs=5, batch_size=32, validation_split=0.2, verbose=1)\n",
        "\n",
        "# Sonuçlar\n",
        "y_pred = model.predict(X_test)\n",
        "y_pred = (y_pred > 0.5).astype(int)\n",
        "\n",
        "print(\"SONUÇLAR:\")\n",
        "print(classification_report(y_test, y_pred))\n"
      ]
    },
    {
      "cell_type": "code",
      "source": [
        "import pandas as pd\n",
        "import seaborn as sns\n",
        "import matplotlib.pyplot as plt\n",
        "\n",
        "# Veriyi oku\n",
        "df = pd.read_csv(\"/content/Customer-Churn-Records.csv\")\n",
        "\n",
        "# Gereksiz sütunları kaldır\n",
        "df = df.drop(['RowNumber', 'CustomerId', 'Surname'], axis=1)\n",
        "\n",
        "# Kategorik verileri one-hot encode et\n",
        "df_encoded = pd.get_dummies(df, drop_first=True)\n",
        "\n",
        "# Korelasyon matrisini hesapla\n",
        "corr_matrix = df_encoded.drop('Exited', axis=1).corr()\n",
        "\n",
        "# Isı haritasını çiz\n",
        "plt.figure(figsize=(14, 10))\n",
        "sns.heatmap(corr_matrix, annot=True, fmt=\".2f\", cmap=\"coolwarm\", cbar=True)\n",
        "plt.title(\"Feature'ların Birbirleriyle Olan Korelasyon Matrisi\", fontsize=14)\n",
        "plt.xticks(rotation=45)\n",
        "plt.yticks(rotation=0)\n",
        "plt.tight_layout()\n",
        "plt.show()\n"
      ],
      "metadata": {
        "id": "hxhKNLB2WtWF"
      },
      "execution_count": null,
      "outputs": []
    },
    {
      "cell_type": "code",
      "source": [
        "import pandas as pd\n",
        "import matplotlib.pyplot as plt\n",
        "\n",
        "# Veri yükle\n",
        "df = pd.read_csv(\"/content/Customer-Churn-Records.csv\")\n",
        "\n",
        "# Yaş gruplarını oluştur\n",
        "df['AgeGroup'] = pd.cut(df['Age'], bins=[18, 30, 40, 50, 60, 100],\n",
        "                        labels=['18-30', '31-40', '41-50', '51-60', '60+'])\n",
        "\n",
        "# Her yaş grubundaki Exited ve Not Exited oranlarını hesapla\n",
        "age_exit_dist = df.groupby(['AgeGroup', 'Exited']).size().unstack().fillna(0)\n",
        "age_exit_ratio = age_exit_dist.div(age_exit_dist.sum(axis=1), axis=0)\n",
        "\n",
        "# Görselleştir\n",
        "ax = age_exit_ratio.plot(kind='bar', stacked=False, figsize=(8, 6), color=['skyblue', 'salmon'])\n",
        "plt.title(\"Yaş Gruplarına Göre Exited ve Not Exited Oranları\", fontsize=14)\n",
        "plt.xlabel(\"Yaş Grubu\")\n",
        "plt.ylabel(\"Oran\")\n",
        "plt.legend([\"Not Exited (0)\", \"Exited (1)\"])\n",
        "plt.grid(axis='y', linestyle='--', alpha=0.7)\n",
        "plt.tight_layout()\n",
        "plt.show()\n"
      ],
      "metadata": {
        "id": "fLOP8LvPcoX9"
      },
      "execution_count": null,
      "outputs": []
    }
  ]
}